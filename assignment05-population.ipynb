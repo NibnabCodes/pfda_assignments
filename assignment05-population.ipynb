{
 "cells": [
  {
   "cell_type": "markdown",
   "id": "08bcd8bd",
   "metadata": {},
   "source": [
    "Author: Niamh Hogan"
   ]
  },
  {
   "cell_type": "markdown",
   "id": "37898d58",
   "metadata": {},
   "source": [
    "This notebook analyses the differences between the sexes by age in Ireland collected by the 2022 census"
   ]
  },
  {
   "cell_type": "markdown",
   "id": "8f11e2f0",
   "metadata": {},
   "source": [
    "## Step 1: Cleaning Data"
   ]
  },
  {
   "cell_type": "code",
   "execution_count": 367,
   "id": "23f81bd2",
   "metadata": {},
   "outputs": [],
   "source": [
    "# imports\n",
    "\n",
    "import pandas as pd "
   ]
  },
  {
   "cell_type": "code",
   "execution_count": 368,
   "id": "2baf1cd0",
   "metadata": {},
   "outputs": [],
   "source": [
    "# read in data\n",
    "df = pd.read_csv('./data/Irish_population_cso.csv')\n",
    "\n",
    "# sanity check\n",
    "# df.sample(10)"
   ]
  },
  {
   "cell_type": "code",
   "execution_count": 369,
   "id": "8895053c",
   "metadata": {},
   "outputs": [
    {
     "name": "stdout",
     "output_type": "stream",
     "text": [
      "          Sex Single Year of Age    VALUE\n",
      "0  Both sexes           All ages  5149139\n",
      "1  Both sexes           All ages    61968\n",
      "2  Both sexes           All ages   592713\n"
     ]
    }
   ],
   "source": [
    "# drop unnecessary columns\n",
    "drop_col_list = [\"Statistic Label\",\"CensusYear\",\"Administrative Counties\",\"UNIT\"] \n",
    "\n",
    "df.drop(columns=drop_col_list, inplace=True)\n",
    "\n",
    "# sanity check\n",
    "print (df.head(3))"
   ]
  },
  {
   "cell_type": "code",
   "execution_count": 370,
   "id": "8d6b58d9",
   "metadata": {},
   "outputs": [],
   "source": [
    "# Drop all ages\n",
    "df = df[df[\"Single Year of Age\"] != \"All ages\"] "
   ]
  },
  {
   "cell_type": "code",
   "execution_count": 371,
   "id": "336d39bd",
   "metadata": {},
   "outputs": [],
   "source": [
    "# Drop all sexes\n",
    "df = df[df[\"Sex\"] != \"Both sexes\"]"
   ]
  },
  {
   "cell_type": "code",
   "execution_count": 372,
   "id": "393e7673",
   "metadata": {},
   "outputs": [],
   "source": [
    "# Replace under 1 years of age to 0\n",
    "df[\"Single Year of Age\"] = df[\"Single Year of Age\"].str.replace(\"Under 1 year\", \"0\")\n"
   ]
  },
  {
   "cell_type": "code",
   "execution_count": 373,
   "id": "00dda3bc",
   "metadata": {},
   "outputs": [
    {
     "name": "stderr",
     "output_type": "stream",
     "text": [
      "<>:3: SyntaxWarning: invalid escape sequence '\\D'\n",
      "<>:3: SyntaxWarning: invalid escape sequence '\\D'\n",
      "C:\\Users\\hniam\\AppData\\Local\\Temp\\ipykernel_25676\\1885411240.py:3: SyntaxWarning: invalid escape sequence '\\D'\n",
      "  df[\"Single Year of Age\"] = df[\"Single Year of Age\"].str.replace(\"\\D\", \"\", regex=True)\n"
     ]
    }
   ],
   "source": [
    "# Remove spaces and years in ages\n",
    "# https://pandas.pydata.org/pandas-docs/stable/reference/api/pandas.DataFrame.replace.html\n",
    "df[\"Single Year of Age\"] = df[\"Single Year of Age\"].str.replace(\"\\D\", \"\", regex=True)\n"
   ]
  },
  {
   "cell_type": "code",
   "execution_count": 374,
   "id": "badce2ec",
   "metadata": {},
   "outputs": [
    {
     "name": "stdout",
     "output_type": "stream",
     "text": [
      "<class 'pandas.core.frame.DataFrame'>\n",
      "Index: 6464 entries, 3296 to 9791\n",
      "Data columns (total 3 columns):\n",
      " #   Column              Non-Null Count  Dtype \n",
      "---  ------              --------------  ----- \n",
      " 0   Sex                 6464 non-null   object\n",
      " 1   Single Year of Age  6464 non-null   object\n",
      " 2   VALUE               6464 non-null   int64 \n",
      "dtypes: int64(1), object(2)\n",
      "memory usage: 202.0+ KB\n",
      "None\n"
     ]
    }
   ],
   "source": [
    "# Check data types\n",
    "print(df.info())"
   ]
  },
  {
   "cell_type": "code",
   "execution_count": 375,
   "id": "4be72198",
   "metadata": {},
   "outputs": [],
   "source": [
    "# Convert single year of age to int\n",
    "df[\"Single Year of Age\"] = df[\"Single Year of Age\"].astype(\"int64\")"
   ]
  },
  {
   "cell_type": "markdown",
   "id": "fb8e5c68",
   "metadata": {},
   "source": [
    "## Step 2: Converting to Pivot Table "
   ]
  },
  {
   "cell_type": "code",
   "execution_count": 376,
   "id": "77f4c7b9",
   "metadata": {},
   "outputs": [
    {
     "name": "stdout",
     "output_type": "stream",
     "text": [
      "Sex                    Female       Male\n",
      "Single Year of Age                      \n",
      "0                   1761.6250  1850.6250\n",
      "1                   1721.5625  1804.6875\n",
      "2                   1810.8750  1889.7500\n",
      "3                   1842.6875  1937.5625\n",
      "4                   1863.6875  1980.3750\n",
      "5                   1958.8750  2042.7500\n",
      "6                   2038.8750  2130.7500\n",
      "7                   2098.2500  2214.3125\n",
      "8                   2152.3125  2268.5000\n",
      "9                   2201.6875  2310.5625\n"
     ]
    }
   ],
   "source": [
    "# Convert to pivot table\n",
    "df_anal = pd.pivot_table(df, 'VALUE',\"Single Year of Age\",\"Sex\")\n",
    "print (df_anal.head(10))\n",
    "# df_anal.to_csv(\"population_for_analysis.csv\")\n",
    "\n",
    "# https://pandas.pydata.org/docs/reference/api/pandas.pivot_table.html#pandas.pivot_table"
   ]
  },
  {
   "cell_type": "markdown",
   "id": "e082b59b",
   "metadata": {},
   "source": [
    "## Task 1: Weighted mean age (by sex) and the difference between the sexes by age"
   ]
  },
  {
   "cell_type": "code",
   "execution_count": null,
   "id": "e61917cb",
   "metadata": {},
   "outputs": [
    {
     "name": "stdout",
     "output_type": "stream",
     "text": [
      "   Single Year of Age     Female       Male\n",
      "0                   0  1761.6250  1850.6250\n",
      "1                   1  1721.5625  1804.6875\n",
      "2                   2  1810.8750  1889.7500\n"
     ]
    }
   ],
   "source": [
    "# Read in Data from folder\n",
    "file_path = \"./data/population_for_analysis.csv\"\n",
    "\n",
    "df = pd.read_csv(file_path)\n",
    "print(df.head(3))\n",
    "\n",
    "# https://phoenixnap.com/kb/absolute-path-vs-relative-path"
   ]
  }
 ],
 "metadata": {
  "kernelspec": {
   "display_name": "base",
   "language": "python",
   "name": "python3"
  },
  "language_info": {
   "codemirror_mode": {
    "name": "ipython",
    "version": 3
   },
   "file_extension": ".py",
   "mimetype": "text/x-python",
   "name": "python",
   "nbconvert_exporter": "python",
   "pygments_lexer": "ipython3",
   "version": "3.12.7"
  }
 },
 "nbformat": 4,
 "nbformat_minor": 5
}
