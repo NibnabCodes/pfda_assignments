{
 "cells": [
  {
   "cell_type": "markdown",
   "id": "08bcd8bd",
   "metadata": {},
   "source": [
    "Author: Niamh Hogan"
   ]
  },
  {
   "cell_type": "markdown",
   "id": "37898d58",
   "metadata": {},
   "source": [
    "This notebook analyses the differences between the sexes by age in Ireland"
   ]
  },
  {
   "cell_type": "code",
   "execution_count": 37,
   "id": "23f81bd2",
   "metadata": {},
   "outputs": [],
   "source": [
    "# imports\n",
    "\n",
    "import pandas as pd "
   ]
  },
  {
   "cell_type": "code",
   "execution_count": 38,
   "id": "2baf1cd0",
   "metadata": {},
   "outputs": [],
   "source": [
    "# read in data\n",
    "df = pd.read_csv('./data/Irish_population_cso.csv')\n",
    "\n",
    "# sanity check\n",
    "# df.sample(10)"
   ]
  },
  {
   "cell_type": "code",
   "execution_count": null,
   "id": "8895053c",
   "metadata": {},
   "outputs": [],
   "source": [
    "# drop unnecessary columns\n",
    "drop_col_list = [\"Statistic Label\",\"CensusYear\",\"UNIT\"]\n",
    "\n",
    "df.drop(columns=drop_col_list, inplace=True)\n",
    "\n",
    "# sanity check\n",
    "# print (df.head(3))"
   ]
  },
  {
   "cell_type": "code",
   "execution_count": 40,
   "id": "8d6b58d9",
   "metadata": {},
   "outputs": [],
   "source": [
    "# Drop all ages\n",
    "df = df[df[\"Single Year of Age\"] != \"All ages\"] "
   ]
  },
  {
   "cell_type": "code",
   "execution_count": 41,
   "id": "336d39bd",
   "metadata": {},
   "outputs": [],
   "source": [
    "# Drop all sexes\n",
    "df = df[df[\"Sex\"] != \"Both sexes\"]"
   ]
  }
 ],
 "metadata": {
  "kernelspec": {
   "display_name": "base",
   "language": "python",
   "name": "python3"
  },
  "language_info": {
   "codemirror_mode": {
    "name": "ipython",
    "version": 3
   },
   "file_extension": ".py",
   "mimetype": "text/x-python",
   "name": "python",
   "nbconvert_exporter": "python",
   "pygments_lexer": "ipython3",
   "version": "3.12.7"
  }
 },
 "nbformat": 4,
 "nbformat_minor": 5
}
