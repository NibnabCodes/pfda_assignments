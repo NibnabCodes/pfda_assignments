{
 "cells": [
  {
   "cell_type": "markdown",
   "id": "08bcd8bd",
   "metadata": {},
   "source": [
    "Author: Niamh Hogan"
   ]
  },
  {
   "cell_type": "markdown",
   "id": "37898d58",
   "metadata": {},
   "source": [
    "This notebook analyses the differences between the sexes by age in Ireland"
   ]
  },
  {
   "cell_type": "code",
   "execution_count": null,
   "id": "23f81bd2",
   "metadata": {},
   "outputs": [],
   "source": [
    "# imports\n",
    "\n",
    "import pandas as pd "
   ]
  }
 ],
 "metadata": {
  "kernelspec": {
   "display_name": "base",
   "language": "python",
   "name": "python3"
  },
  "language_info": {
   "name": "python",
   "version": "3.12.7"
  }
 },
 "nbformat": 4,
 "nbformat_minor": 5
}
