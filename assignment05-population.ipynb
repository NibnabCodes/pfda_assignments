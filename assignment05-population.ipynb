{
 "cells": [
  {
   "cell_type": "markdown",
   "id": "08bcd8bd",
   "metadata": {},
   "source": [
    "Author: Niamh Hogan"
   ]
  },
  {
   "cell_type": "markdown",
   "id": "37898d58",
   "metadata": {},
   "source": [
    "This notebook analyses the differences between the sexes by age in Ireland"
   ]
  },
  {
   "cell_type": "code",
   "execution_count": 175,
   "id": "23f81bd2",
   "metadata": {},
   "outputs": [],
   "source": [
    "# imports\n",
    "\n",
    "import pandas as pd "
   ]
  },
  {
   "cell_type": "code",
   "execution_count": 176,
   "id": "2baf1cd0",
   "metadata": {},
   "outputs": [],
   "source": [
    "# read in data\n",
    "df = pd.read_csv('./data/Irish_population_cso.csv')\n",
    "\n",
    "# sanity check\n",
    "# df.sample(10)"
   ]
  },
  {
   "cell_type": "code",
   "execution_count": 177,
   "id": "8895053c",
   "metadata": {},
   "outputs": [
    {
     "name": "stdout",
     "output_type": "stream",
     "text": [
      "          Sex Single Year of Age Administrative Counties    VALUE\n",
      "0  Both sexes           All ages                 Ireland  5149139\n",
      "1  Both sexes           All ages   Carlow County Council    61968\n",
      "2  Both sexes           All ages     Dublin City Council   592713\n"
     ]
    }
   ],
   "source": [
    "# drop unnecessary columns\n",
    "drop_col_list = [\"Statistic Label\",\"CensusYear\", \"UNIT\"]\n",
    "\n",
    "df.drop(columns=drop_col_list, inplace=True)\n",
    "\n",
    "# sanity check\n",
    "print (df.head(3))"
   ]
  },
  {
   "cell_type": "code",
   "execution_count": 178,
   "id": "8d6b58d9",
   "metadata": {},
   "outputs": [],
   "source": [
    "# Drop all ages\n",
    "df = df[df[\"Single Year of Age\"] != \"All ages\"] "
   ]
  },
  {
   "cell_type": "code",
   "execution_count": 179,
   "id": "336d39bd",
   "metadata": {},
   "outputs": [],
   "source": [
    "# Drop all sexes\n",
    "df = df[df[\"Sex\"] != \"Both sexes\"]"
   ]
  },
  {
   "cell_type": "code",
   "execution_count": 180,
   "id": "393e7673",
   "metadata": {},
   "outputs": [],
   "source": [
    "# Replace under 1 years of age to 0\n",
    "df[\"Single Year of Age\"] = df[\"Single Year of Age\"].str.replace(\"Under 1 year\", \"0\")\n"
   ]
  },
  {
   "cell_type": "code",
   "execution_count": 181,
   "id": "00dda3bc",
   "metadata": {},
   "outputs": [
    {
     "name": "stderr",
     "output_type": "stream",
     "text": [
      "<>:3: SyntaxWarning: invalid escape sequence '\\D'\n",
      "<>:3: SyntaxWarning: invalid escape sequence '\\D'\n",
      "C:\\Users\\hniam\\AppData\\Local\\Temp\\ipykernel_25472\\1885411240.py:3: SyntaxWarning: invalid escape sequence '\\D'\n",
      "  df[\"Single Year of Age\"] = df[\"Single Year of Age\"].str.replace(\"\\D\", \"\", regex=True)\n"
     ]
    }
   ],
   "source": [
    "# Remove spaces and years in ages\n",
    "# https://pandas.pydata.org/pandas-docs/stable/reference/api/pandas.DataFrame.replace.html\n",
    "df[\"Single Year of Age\"] = df[\"Single Year of Age\"].str.replace(\"\\D\", \"\", regex=True)\n"
   ]
  },
  {
   "cell_type": "code",
   "execution_count": 185,
   "id": "badce2ec",
   "metadata": {},
   "outputs": [
    {
     "name": "stdout",
     "output_type": "stream",
     "text": [
      "<class 'pandas.core.frame.DataFrame'>\n",
      "Index: 6464 entries, 3296 to 9791\n",
      "Data columns (total 4 columns):\n",
      " #   Column                   Non-Null Count  Dtype \n",
      "---  ------                   --------------  ----- \n",
      " 0   Sex                      6464 non-null   object\n",
      " 1   Single Year of Age       6464 non-null   int64 \n",
      " 2   Administrative Counties  6464 non-null   object\n",
      " 3   VALUE                    6464 non-null   int64 \n",
      "dtypes: int64(2), object(2)\n",
      "memory usage: 252.5+ KB\n",
      "None\n"
     ]
    }
   ],
   "source": [
    "# Check data types\n",
    "print(df.info())"
   ]
  },
  {
   "cell_type": "code",
   "execution_count": 183,
   "id": "4be72198",
   "metadata": {},
   "outputs": [],
   "source": [
    "# Convert single year of age to int\n",
    "df[\"Single Year of Age\"] = df[\"Single Year of Age\"].astype(\"int64\")"
   ]
  },
  {
   "cell_type": "code",
   "execution_count": 184,
   "id": "77f4c7b9",
   "metadata": {},
   "outputs": [],
   "source": [
    "# Convert to pivot table"
   ]
  }
 ],
 "metadata": {
  "kernelspec": {
   "display_name": "base",
   "language": "python",
   "name": "python3"
  },
  "language_info": {
   "codemirror_mode": {
    "name": "ipython",
    "version": 3
   },
   "file_extension": ".py",
   "mimetype": "text/x-python",
   "name": "python",
   "nbconvert_exporter": "python",
   "pygments_lexer": "ipython3",
   "version": "3.12.7"
  }
 },
 "nbformat": 4,
 "nbformat_minor": 5
}
