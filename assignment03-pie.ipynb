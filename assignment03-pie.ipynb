{
 "cells": [
  {
   "cell_type": "markdown",
   "id": "cea2416a",
   "metadata": {},
   "source": [
    "Author: Niamh Hogan"
   ]
  },
  {
   "cell_type": "markdown",
   "id": "f79c65ab",
   "metadata": {},
   "source": [
    "# Pie Chart of Email Domains"
   ]
  },
  {
   "cell_type": "markdown",
   "id": "bf6679c4",
   "metadata": {},
   "source": [
    "## This notebook contains a program that creates a pie chart of 1000 people's email domains "
   ]
  },
  {
   "cell_type": "code",
   "execution_count": 191,
   "id": "4fde446b",
   "metadata": {},
   "outputs": [],
   "source": [
    "import pandas as pd\n",
    "import matplotlib.pyplot as plt"
   ]
  },
  {
   "cell_type": "code",
   "execution_count": 192,
   "id": "dcccc790",
   "metadata": {},
   "outputs": [],
   "source": [
    "# Direct download link\n",
    "url=\"https://drive.google.com/uc?id=1AWPf-pJodJKeHsARQK_RHiNsE8fjPCVK&export=download\"\n",
    "\n",
    "# Read in csv file from url via pandas\n",
    "df=pd.read_csv(url)\n",
    "\n",
    "# Print csv file - test\n",
    "#print(df)\n",
    "\n",
    "# Source:\n",
    "# https://www.geeksforgeeks.org/python/different-ways-to-import-csv-file-in-pandas/"
   ]
  },
  {
   "cell_type": "code",
   "execution_count": 193,
   "id": "b345b7c5",
   "metadata": {},
   "outputs": [],
   "source": [
    "# Access keys\n",
    "emails=df[\"Email\"]\n",
    "\n",
    "# Print emails - test\n",
    "# print(emails)\n"
   ]
  },
  {
   "cell_type": "code",
   "execution_count": 194,
   "id": "0851fd5e",
   "metadata": {},
   "outputs": [
    {
     "data": {
      "text/plain": [
       "Index             int64\n",
       "User Id          object\n",
       "First Name       object\n",
       "Last Name        object\n",
       "Sex              object\n",
       "Email            object\n",
       "Phone            object\n",
       "Date of birth    object\n",
       "Job Title        object\n",
       "dtype: object"
      ]
     },
     "execution_count": 194,
     "metadata": {},
     "output_type": "execute_result"
    }
   ],
   "source": [
    "# Check variable types\n",
    "df.dtypes"
   ]
  },
  {
   "cell_type": "code",
   "execution_count": 195,
   "id": "8d18ce4c",
   "metadata": {},
   "outputs": [],
   "source": [
    "# Convert email to string\n",
    "df['Email'] = df['Email'].astype(str)\n",
    "\n",
    "# https://www.geeksforgeeks.org/pandas/how-to-convert-pandas-columns-to-string/"
   ]
  },
  {
   "cell_type": "code",
   "execution_count": null,
   "id": "fa161c58",
   "metadata": {},
   "outputs": [],
   "source": [
    "# Access everything after \n",
    "# '@' to get domains\n",
    "domain = df['Email'].str.split('@').str[1]\n",
    "#df['domain'] = \n",
    "\n",
    "# Print first 3 - test\n",
    "# df.head(3)\n"
   ]
  },
  {
   "cell_type": "code",
   "execution_count": null,
   "id": "34ddb371",
   "metadata": {},
   "outputs": [],
   "source": [
    "# Before creating pie chart \n",
    "# need to count occurences\n",
    "# of domains\n",
    "#df['domain']\n",
    "count_domains = domain.value_counts()\n",
    "print(count_domains)\n",
    "# https://datascience.stackexchange.com/questions/113826/how-to-plot-categorical-variables-with-a-pie-chart\n"
   ]
  },
  {
   "cell_type": "code",
   "execution_count": 200,
   "id": "376c41e9",
   "metadata": {},
   "outputs": [
    {
     "ename": "ValueError",
     "evalue": "'label' must be of length 'x'",
     "output_type": "error",
     "traceback": [
      "\u001b[1;31m---------------------------------------------------------------------------\u001b[0m",
      "\u001b[1;31mValueError\u001b[0m                                Traceback (most recent call last)",
      "Cell \u001b[1;32mIn[200], line 6\u001b[0m\n\u001b[0;32m      1\u001b[0m \u001b[38;5;66;03m# Customize colours\u001b[39;00m\n\u001b[0;32m      2\u001b[0m \u001b[38;5;66;03m#a = ['black', 'white', 'pink']\u001b[39;00m\n\u001b[0;32m      3\u001b[0m \n\u001b[0;32m      4\u001b[0m \u001b[38;5;66;03m# Create pie chart \u001b[39;00m\n\u001b[0;32m      5\u001b[0m fig, ax \u001b[38;5;241m=\u001b[39m plt\u001b[38;5;241m.\u001b[39msubplots()\n\u001b[1;32m----> 6\u001b[0m ax\u001b[38;5;241m.\u001b[39mpie(count_domains, labels\u001b[38;5;241m=\u001b[39mdomain)\n",
      "File \u001b[1;32mc:\\Users\\hniam\\anaconda3\\Lib\\site-packages\\matplotlib\\__init__.py:1473\u001b[0m, in \u001b[0;36m_preprocess_data.<locals>.inner\u001b[1;34m(ax, data, *args, **kwargs)\u001b[0m\n\u001b[0;32m   1470\u001b[0m \u001b[38;5;129m@functools\u001b[39m\u001b[38;5;241m.\u001b[39mwraps(func)\n\u001b[0;32m   1471\u001b[0m \u001b[38;5;28;01mdef\u001b[39;00m \u001b[38;5;21minner\u001b[39m(ax, \u001b[38;5;241m*\u001b[39margs, data\u001b[38;5;241m=\u001b[39m\u001b[38;5;28;01mNone\u001b[39;00m, \u001b[38;5;241m*\u001b[39m\u001b[38;5;241m*\u001b[39mkwargs):\n\u001b[0;32m   1472\u001b[0m     \u001b[38;5;28;01mif\u001b[39;00m data \u001b[38;5;129;01mis\u001b[39;00m \u001b[38;5;28;01mNone\u001b[39;00m:\n\u001b[1;32m-> 1473\u001b[0m         \u001b[38;5;28;01mreturn\u001b[39;00m func(\n\u001b[0;32m   1474\u001b[0m             ax,\n\u001b[0;32m   1475\u001b[0m             \u001b[38;5;241m*\u001b[39m\u001b[38;5;28mmap\u001b[39m(sanitize_sequence, args),\n\u001b[0;32m   1476\u001b[0m             \u001b[38;5;241m*\u001b[39m\u001b[38;5;241m*\u001b[39m{k: sanitize_sequence(v) \u001b[38;5;28;01mfor\u001b[39;00m k, v \u001b[38;5;129;01min\u001b[39;00m kwargs\u001b[38;5;241m.\u001b[39mitems()})\n\u001b[0;32m   1478\u001b[0m     bound \u001b[38;5;241m=\u001b[39m new_sig\u001b[38;5;241m.\u001b[39mbind(ax, \u001b[38;5;241m*\u001b[39margs, \u001b[38;5;241m*\u001b[39m\u001b[38;5;241m*\u001b[39mkwargs)\n\u001b[0;32m   1479\u001b[0m     auto_label \u001b[38;5;241m=\u001b[39m (bound\u001b[38;5;241m.\u001b[39marguments\u001b[38;5;241m.\u001b[39mget(label_namer)\n\u001b[0;32m   1480\u001b[0m                   \u001b[38;5;129;01mor\u001b[39;00m bound\u001b[38;5;241m.\u001b[39mkwargs\u001b[38;5;241m.\u001b[39mget(label_namer))\n",
      "File \u001b[1;32mc:\\Users\\hniam\\anaconda3\\Lib\\site-packages\\matplotlib\\axes\\_axes.py:3298\u001b[0m, in \u001b[0;36mAxes.pie\u001b[1;34m(self, x, explode, labels, colors, autopct, pctdistance, shadow, labeldistance, startangle, radius, counterclock, wedgeprops, textprops, center, frame, rotatelabels, normalize, hatch)\u001b[0m\n\u001b[0;32m   3296\u001b[0m     explode \u001b[38;5;241m=\u001b[39m [\u001b[38;5;241m0\u001b[39m] \u001b[38;5;241m*\u001b[39m \u001b[38;5;28mlen\u001b[39m(x)\n\u001b[0;32m   3297\u001b[0m \u001b[38;5;28;01mif\u001b[39;00m \u001b[38;5;28mlen\u001b[39m(x) \u001b[38;5;241m!=\u001b[39m \u001b[38;5;28mlen\u001b[39m(labels):\n\u001b[1;32m-> 3298\u001b[0m     \u001b[38;5;28;01mraise\u001b[39;00m \u001b[38;5;167;01mValueError\u001b[39;00m(\u001b[38;5;124m\"\u001b[39m\u001b[38;5;124m'\u001b[39m\u001b[38;5;124mlabel\u001b[39m\u001b[38;5;124m'\u001b[39m\u001b[38;5;124m must be of length \u001b[39m\u001b[38;5;124m'\u001b[39m\u001b[38;5;124mx\u001b[39m\u001b[38;5;124m'\u001b[39m\u001b[38;5;124m\"\u001b[39m)\n\u001b[0;32m   3299\u001b[0m \u001b[38;5;28;01mif\u001b[39;00m \u001b[38;5;28mlen\u001b[39m(x) \u001b[38;5;241m!=\u001b[39m \u001b[38;5;28mlen\u001b[39m(explode):\n\u001b[0;32m   3300\u001b[0m     \u001b[38;5;28;01mraise\u001b[39;00m \u001b[38;5;167;01mValueError\u001b[39;00m(\u001b[38;5;124m\"\u001b[39m\u001b[38;5;124m'\u001b[39m\u001b[38;5;124mexplode\u001b[39m\u001b[38;5;124m'\u001b[39m\u001b[38;5;124m must be of length \u001b[39m\u001b[38;5;124m'\u001b[39m\u001b[38;5;124mx\u001b[39m\u001b[38;5;124m'\u001b[39m\u001b[38;5;124m\"\u001b[39m)\n",
      "\u001b[1;31mValueError\u001b[0m: 'label' must be of length 'x'"
     ]
    },
    {
     "data": {
      "image/png": "[encoded data removed]",
      "text/plain": [
       "<Figure size 640x480 with 1 Axes>"
      ]
     },
     "metadata": {},
     "output_type": "display_data"
    }
   ],
   "source": [
    "# Customize colours\n",
    "#a = ['black', 'white', 'pink']\n",
    "\n",
    "# Create pie chart \n",
    "fig, ax = plt.subplots()\n",
    "ax.pie(count_domains, labels=domain)"
   ]
  }
 ],
 "metadata": {
  "kernelspec": {
   "display_name": "base",
   "language": "python",
   "name": "python3"
  },
  "language_info": {
   "codemirror_mode": {
    "name": "ipython",
    "version": 3
   },
   "file_extension": ".py",
   "mimetype": "text/x-python",
   "name": "python",
   "nbconvert_exporter": "python",
   "pygments_lexer": "ipython3",
   "version": "3.12.7"
  }
 },
 "nbformat": 4,
 "nbformat_minor": 5
}
