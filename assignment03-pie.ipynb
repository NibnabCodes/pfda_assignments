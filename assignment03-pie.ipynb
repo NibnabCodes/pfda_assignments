{
 "cells": [
  {
   "cell_type": "markdown",
   "id": "cea2416a",
   "metadata": {},
   "source": [
    "Author: Niamh Hogan"
   ]
  },
  {
   "cell_type": "markdown",
   "id": "f79c65ab",
   "metadata": {},
   "source": [
    "# Pie Chart of Email Domains"
   ]
  },
  {
   "cell_type": "markdown",
   "id": "bf6679c4",
   "metadata": {},
   "source": [
    "## This notebook contains a program that creates a pie chart of 1000 people's email domains "
   ]
  },
  {
   "cell_type": "code",
   "execution_count": null,
   "id": "4fde446b",
   "metadata": {},
   "outputs": [],
   "source": [
    "import pandas as pd"
   ]
  },
  {
   "cell_type": "code",
   "execution_count": null,
   "id": "dcccc790",
   "metadata": {},
   "outputs": [],
   "source": [
    "# Direct download link\n",
    "url=\"https://drive.google.com/uc?id=1AWPf-pJodJKeHsARQK_RHiNsE8fjPCVK&export=download\"\n",
    "\n",
    "# Read in csv file from url via pandas\n",
    "df=pd.read_csv(url)\n",
    "\n",
    "# Print csv file\n",
    "print(df)\n",
    "\n",
    "# Soucehttps://www.geeksforgeeks.org/python/different-ways-to-import-csv-file-in-pandas/"
   ]
  },
  {
   "cell_type": "code",
   "execution_count": null,
   "id": "b345b7c5",
   "metadata": {},
   "outputs": [],
   "source": [
    "# Access keys"
   ]
  }
 ],
 "metadata": {
  "kernelspec": {
   "display_name": "base",
   "language": "python",
   "name": "python3"
  },
  "language_info": {
   "codemirror_mode": {
    "name": "ipython",
    "version": 3
   },
   "file_extension": ".py",
   "mimetype": "text/x-python",
   "name": "python",
   "nbconvert_exporter": "python",
   "pygments_lexer": "ipython3",
   "version": "3.12.7"
  }
 },
 "nbformat": 4,
 "nbformat_minor": 5
}
