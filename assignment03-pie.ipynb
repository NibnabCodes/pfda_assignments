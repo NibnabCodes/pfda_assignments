{
 "cells": [
  {
   "cell_type": "markdown",
   "id": "f79c65ab",
   "metadata": {},
   "source": [
    "# Pie Chart of Email Domains"
   ]
  },
  {
   "cell_type": "markdown",
   "id": "bf6679c4",
   "metadata": {},
   "source": [
    "## This notebook contains a program that creates a pie chart of 1000 people's email domains "
   ]
  },
  {
   "cell_type": "code",
   "execution_count": null,
   "id": "4fde446b",
   "metadata": {},
   "outputs": [],
   "source": [
    "import pandas as pd"
   ]
  },
  {
   "cell_type": "code",
   "execution_count": null,
   "id": "7b53c815",
   "metadata": {},
   "outputs": [],
   "source": [
    "# import data\n"
   ]
  }
 ],
 "metadata": {
  "kernelspec": {
   "display_name": "base",
   "language": "python",
   "name": "python3"
  },
  "language_info": {
   "name": "python",
   "version": "3.12.7"
  }
 },
 "nbformat": 4,
 "nbformat_minor": 5
}
